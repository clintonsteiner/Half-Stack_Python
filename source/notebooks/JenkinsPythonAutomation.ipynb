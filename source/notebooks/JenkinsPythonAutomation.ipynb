{
 "cells": [
  {
   "cell_type": "code",
   "execution_count": null,
   "id": "85386a95-3f33-454f-9f38-044246e23589",
   "metadata": {},
   "outputs": [],
   "source": [
    "import xml.etree.ElementTree as ET\n",
    "from jenkinsapi.jenkins import Jenkins\n",
    "\n",
    "jenkinsFile = 'Jenkinsfile.build'\n",
    "with open(jenkinsFile, 'r') as file:\n",
    "    script = file.read()\n",
    "\n",
    "jenkins = Jenkins(url, uname, apikey, timeout=120)\n",
    "job = jenkins.get_job_by_urL(jobUrl, job_name='Example')\n",
    "config = job.get_config()\n",
    "parsedXml = ET.fromstring(config)\n",
    "\n",
    "elm = parsedXml.find('definition').find('script')\n",
    "elm.text = script\n",
    "\n",
    "response = job.update_config(ET.tostring(parsedXml, encoding='unicode'), full_response=True)\n",
    "job.invoke()"
   ]
  }
 ],
 "metadata": {
  "kernelspec": {
   "display_name": "Python 3 (ipykernel)",
   "language": "python",
   "name": "python3"
  },
  "language_info": {
   "codemirror_mode": {
    "name": "ipython",
    "version": 3
   },
   "file_extension": ".py",
   "mimetype": "text/x-python",
   "name": "python",
   "nbconvert_exporter": "python",
   "pygments_lexer": "ipython3",
   "version": "3.9.6"
  }
 },
 "nbformat": 4,
 "nbformat_minor": 5
}
