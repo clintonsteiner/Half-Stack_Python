{
 "cells": [
  {
   "cell_type": "markdown",
   "id": "66796ac0-c72e-4d1f-9919-afe9208f5e2e",
   "metadata": {},
   "source": [
    "# Run cmd on git output\n",
    "git status ./*Jenkinsfile.cert* | grep Jenk | awk -F ':' '{print $2}' | sed 's/ //g' | xargs -I {} ./cmd.py {}\n"
   ]
  }
 ],
 "metadata": {
  "kernelspec": {
   "display_name": "Python 3 (ipykernel)",
   "language": "python",
   "name": "python3"
  },
  "language_info": {
   "codemirror_mode": {
    "name": "ipython",
    "version": 3
   },
   "file_extension": ".py",
   "mimetype": "text/x-python",
   "name": "python",
   "nbconvert_exporter": "python",
   "pygments_lexer": "ipython3",
   "version": "3.9.6"
  }
 },
 "nbformat": 4,
 "nbformat_minor": 5
}
