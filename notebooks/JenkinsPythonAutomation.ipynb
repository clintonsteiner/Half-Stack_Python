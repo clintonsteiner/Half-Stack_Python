{
 "cells": [
  {
   "cell_type": "markdown",
   "id": "7c946340-f845-4253-919f-313970f7ab82",
   "metadata": {},
   "source": [
    "# Jenkins Python Automation"
   ]
  },
  {
   "cell_type": "code",
   "execution_count": 1,
   "id": "85386a95-3f33-454f-9f38-044246e23589",
   "metadata": {
    "execution": {
     "iopub.execute_input": "2024-11-05T00:52:06.715898Z",
     "iopub.status.busy": "2024-11-05T00:52:06.715336Z",
     "iopub.status.idle": "2024-11-05T00:52:07.485307Z",
     "shell.execute_reply": "2024-11-05T00:52:07.484699Z"
    }
   },
   "outputs": [
    {
     "ename": "NameError",
     "evalue": "name 'uname' is not defined",
     "output_type": "error",
     "traceback": [
      "\u001b[0;31m---------------------------------------------------------------------------\u001b[0m",
      "\u001b[0;31mNameError\u001b[0m                                 Traceback (most recent call last)",
      "Cell \u001b[0;32mIn[1], line 10\u001b[0m\n\u001b[1;32m      8\u001b[0m script \u001b[38;5;241m=\u001b[39m \u001b[38;5;124m'\u001b[39m\u001b[38;5;124mMockJenkinsScript\u001b[39m\u001b[38;5;124m'\u001b[39m\n\u001b[1;32m      9\u001b[0m url \u001b[38;5;241m=\u001b[39m \u001b[38;5;124m'\u001b[39m\u001b[38;5;124mMockJenkinsScript\u001b[39m\u001b[38;5;124m'\u001b[39m\n\u001b[0;32m---> 10\u001b[0m jenkins \u001b[38;5;241m=\u001b[39m Jenkins(url, \u001b[43muname\u001b[49m, apikey, timeout\u001b[38;5;241m=\u001b[39m\u001b[38;5;241m120\u001b[39m)\n\u001b[1;32m     11\u001b[0m jobUrl \u001b[38;5;241m=\u001b[39m \u001b[38;5;124m'\u001b[39m\u001b[38;5;124mMockJenkinsScript\u001b[39m\u001b[38;5;124m'\u001b[39m\n\u001b[1;32m     12\u001b[0m job \u001b[38;5;241m=\u001b[39m jenkins\u001b[38;5;241m.\u001b[39mget_job_by_url(jobUrl, job_name\u001b[38;5;241m=\u001b[39m\u001b[38;5;124m'\u001b[39m\u001b[38;5;124mExample\u001b[39m\u001b[38;5;124m'\u001b[39m)\n",
      "\u001b[0;31mNameError\u001b[0m: name 'uname' is not defined"
     ]
    }
   ],
   "source": [
    "# JenkinsPythonAutomation\n",
    "import xml.etree.ElementTree as ET\n",
    "from jenkinsapi.jenkins import Jenkins\n",
    "\n",
    "jenkinsFile = 'Jenkinsfile.build'\n",
    "#with open(jenkinsFile, 'r') as file:\n",
    "#    script = file.read()\n",
    "script = 'MockJenkinsScript'\n",
    "url = 'MockJenkinsScript'\n",
    "jenkins = Jenkins(url, uname, apikey, timeout=120)\n",
    "jobUrl = 'MockJenkinsScript'\n",
    "job = jenkins.get_job_by_url(jobUrl, job_name='Example')\n",
    "config = job.get_config()\n",
    "parsedXml = ET.fromstring(config)\n",
    "\n",
    "elm = parsedXml.find('definition').find('script')\n",
    "elm.text = script\n",
    "\n",
    "response = job.update_config(ET.tostring(parsedXml, encoding='unicode'), full_response=True)\n",
    "job.invoke()"
   ]
  }
 ],
 "metadata": {
  "kernelspec": {
   "display_name": "Python 3 (ipykernel)",
   "language": "python",
   "name": "python"
  },
  "language_info": {
   "codemirror_mode": {
    "name": "ipython",
    "version": 3
   },
   "file_extension": ".py",
   "mimetype": "text/x-python",
   "name": "python",
   "nbconvert_exporter": "python",
   "pygments_lexer": "ipython3",
   "version": "3.9.20"
  }
 },
 "nbformat": 4,
 "nbformat_minor": 5
}
