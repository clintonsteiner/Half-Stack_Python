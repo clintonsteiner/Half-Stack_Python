{
 "cells": [
  {
   "cell_type": "code",
   "execution_count": 1,
   "id": "85386a95-3f33-454f-9f38-044246e23589",
   "metadata": {
    "execution": {
     "iopub.execute_input": "2024-06-21T15:24:58.551340Z",
     "iopub.status.busy": "2024-06-21T15:24:58.550764Z",
     "iopub.status.idle": "2024-06-21T15:24:58.749203Z",
     "shell.execute_reply": "2024-06-21T15:24:58.748515Z"
    }
   },
   "outputs": [
    {
     "ename": "ModuleNotFoundError",
     "evalue": "No module named 'jenkinsapi'",
     "output_type": "error",
     "traceback": [
      "\u001b[0;31m---------------------------------------------------------------------------\u001b[0m",
      "\u001b[0;31mModuleNotFoundError\u001b[0m                       Traceback (most recent call last)",
      "Cell \u001b[0;32mIn[1], line 2\u001b[0m\n\u001b[1;32m      1\u001b[0m \u001b[38;5;28;01mimport\u001b[39;00m \u001b[38;5;21;01mxml\u001b[39;00m\u001b[38;5;21;01m.\u001b[39;00m\u001b[38;5;21;01metree\u001b[39;00m\u001b[38;5;21;01m.\u001b[39;00m\u001b[38;5;21;01mElementTree\u001b[39;00m \u001b[38;5;28;01mas\u001b[39;00m \u001b[38;5;21;01mET\u001b[39;00m\n\u001b[0;32m----> 2\u001b[0m \u001b[38;5;28;01mfrom\u001b[39;00m \u001b[38;5;21;01mjenkinsapi\u001b[39;00m\u001b[38;5;21;01m.\u001b[39;00m\u001b[38;5;21;01mjenkins\u001b[39;00m \u001b[38;5;28;01mimport\u001b[39;00m Jenkins\n\u001b[1;32m      4\u001b[0m jenkinsFile \u001b[38;5;241m=\u001b[39m \u001b[38;5;124m'\u001b[39m\u001b[38;5;124mJenkinsfile.build\u001b[39m\u001b[38;5;124m'\u001b[39m\n\u001b[1;32m      5\u001b[0m \u001b[38;5;28;01mwith\u001b[39;00m \u001b[38;5;28mopen\u001b[39m(jenkinsFile, \u001b[38;5;124m'\u001b[39m\u001b[38;5;124mr\u001b[39m\u001b[38;5;124m'\u001b[39m) \u001b[38;5;28;01mas\u001b[39;00m file:\n",
      "\u001b[0;31mModuleNotFoundError\u001b[0m: No module named 'jenkinsapi'"
     ]
    }
   ],
   "source": [
    "import xml.etree.ElementTree as ET\n",
    "from jenkinsapi.jenkins import Jenkins\n",
    "\n",
    "jenkinsFile = 'Jenkinsfile.build'\n",
    "with open(jenkinsFile, 'r') as file:\n",
    "    script = file.read()\n",
    "\n",
    "jenkins = Jenkins(url, uname, apikey, timeout=120)\n",
    "job = jenkins.get_job_by_urL(jobUrl, job_name='Example')\n",
    "config = job.get_config()\n",
    "parsedXml = ET.fromstring(config)\n",
    "\n",
    "elm = parsedXml.find('definition').find('script')\n",
    "elm.text = script\n",
    "\n",
    "response = job.update_config(ET.tostring(parsedXml, encoding='unicode'), full_response=True)\n",
    "job.invoke()"
   ]
  }
 ],
 "metadata": {
  "kernelspec": {
   "display_name": "Python 3 (ipykernel)",
   "language": "python",
   "name": "python3"
  },
  "language_info": {
   "codemirror_mode": {
    "name": "ipython",
    "version": 3
   },
   "file_extension": ".py",
   "mimetype": "text/x-python",
   "name": "python",
   "nbconvert_exporter": "python",
   "pygments_lexer": "ipython3",
   "version": "3.9.19"
  }
 },
 "nbformat": 4,
 "nbformat_minor": 5
}
