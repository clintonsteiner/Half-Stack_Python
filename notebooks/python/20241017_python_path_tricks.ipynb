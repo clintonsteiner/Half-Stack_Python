{
 "cells": [
  {
   "cell_type": "markdown",
   "id": "3e81438d-dc33-4fc9-a304-47851da7a752",
   "metadata": {},
   "source": [
    "# PYTHONPATH Tricks"
   ]
  },
  {
   "cell_type": "markdown",
   "id": "4a51f064-0bb2-4c9b-bddd-49a94e3c7230",
   "metadata": {},
   "source": [
    "### What is PYTHONPATH\n",
    "PYTHONPATH is an environment variable that defines where python looks for importable modules\n",
    "\n",
    "In bash, running `echo $PYTHONPATH` will show you the current path\n",
    "\n",
    "Python then adds the directories in that path to `sys.path` at runtime"
   ]
  },
  {
   "attachments": {},
   "cell_type": "markdown",
   "id": "f20393d5-bbb2-472b-9549-4c8b8ec1b7b5",
   "metadata": {},
   "source": [
    "### Handling of dependencies with multiple versions\n",
    "\n",
    "If there are multiple versions of a package in `sys.path`, python searches `sys.path` in order and uses the first one found\n",
    "\n",
    "#### Experiment\n",
    "To prove this, setup the following scenario\n",
    "\n",
    "File: ~/package1/package.py\n",
    "def version():\n",
    "    return \"Version 1\"\n",
    "\n",
    "File: ~/package2/package.py\n",
    "def version():\n",
    "    return \"Version 2\"\n",
    "\n",
    "bash: `PYTHONPATH=~/package1/package.py:~/package2/package.py python`\n",
    "Inside the python interpreter: `import package; package.version()`\n",
    "Output: Version 1\n",
    "\n",
    "This makes sense, running `import sys; sys.path` shows us that package1 is listed first hence it was loaded"
   ]
  },
  {
   "cell_type": "markdown",
   "id": "ebf61e77-2071-4787-b71c-09439a2d7794",
   "metadata": {},
   "source": [
    "## Overriding default resolution behaviors"
   ]
  },
  {
   "cell_type": "code",
   "execution_count": 1,
   "id": "e1b84fc0-236f-4b5d-8b8d-7cf11b403951",
   "metadata": {
    "execution": {
     "iopub.execute_input": "2025-01-08T11:05:03.498884Z",
     "iopub.status.busy": "2025-01-08T11:05:03.498453Z",
     "iopub.status.idle": "2025-01-08T11:05:03.660398Z",
     "shell.execute_reply": "2025-01-08T11:05:03.659877Z"
    }
   },
   "outputs": [
    {
     "ename": "ModuleNotFoundError",
     "evalue": "No module named 'package'",
     "output_type": "error",
     "traceback": [
      "\u001b[0;31m---------------------------------------------------------------------------\u001b[0m",
      "\u001b[0;31mModuleNotFoundError\u001b[0m                       Traceback (most recent call last)",
      "Cell \u001b[0;32mIn[1], line 18\u001b[0m\n\u001b[1;32m     15\u001b[0m \u001b[38;5;66;03m# Changing to Version 2 of our package\u001b[39;00m\n\u001b[1;32m     16\u001b[0m \u001b[38;5;66;03m# sys.path was [\"\", \"package1\" \"package2\"] but will be [\"\", \"package2\", \"package1\"] now\u001b[39;00m\n\u001b[1;32m     17\u001b[0m sys\u001b[38;5;241m.\u001b[39mpath\u001b[38;5;241m.\u001b[39minsert(\u001b[38;5;241m1\u001b[39m, os\u001b[38;5;241m.\u001b[39mpath\u001b[38;5;241m.\u001b[39mabspath(\u001b[38;5;124m\"\u001b[39m\u001b[38;5;124m~/package2\u001b[39m\u001b[38;5;124m\"\u001b[39m))\n\u001b[0;32m---> 18\u001b[0m \u001b[43mprintPackageVersion\u001b[49m\u001b[43m(\u001b[49m\u001b[43m)\u001b[49m \u001b[38;5;66;03m# outputs Version2 \u001b[39;00m\n\u001b[1;32m     20\u001b[0m \u001b[38;5;66;03m# What if we wanted to use both versions of the package and use them both in the same file\u001b[39;00m\n\u001b[1;32m     21\u001b[0m \u001b[38;5;28;01mimport\u001b[39;00m\u001b[38;5;250m \u001b[39m\u001b[38;5;21;01mimportlib\u001b[39;00m\u001b[38;5;21;01m.\u001b[39;00m\u001b[38;5;21;01mutil\u001b[39;00m\n",
      "Cell \u001b[0;32mIn[1], line 7\u001b[0m, in \u001b[0;36mprintPackageVersion\u001b[0;34m()\u001b[0m\n\u001b[1;32m      6\u001b[0m \u001b[38;5;28;01mdef\u001b[39;00m\u001b[38;5;250m \u001b[39m\u001b[38;5;21mprintPackageVersion\u001b[39m():\n\u001b[0;32m----> 7\u001b[0m     \u001b[38;5;28;01mimport\u001b[39;00m\u001b[38;5;250m \u001b[39m\u001b[38;5;21;01mpackage\u001b[39;00m\n\u001b[1;32m      8\u001b[0m     \u001b[38;5;28mprint\u001b[39m(\u001b[38;5;124mf\u001b[39m\u001b[38;5;124m\"\u001b[39m\u001b[38;5;124mCurrently loaded package version \u001b[39m\u001b[38;5;132;01m{\u001b[39;00mpackage\u001b[38;5;241m.\u001b[39mversion()\u001b[38;5;132;01m}\u001b[39;00m\u001b[38;5;124m\"\u001b[39m)\n",
      "\u001b[0;31mModuleNotFoundError\u001b[0m: No module named 'package'"
     ]
    }
   ],
   "source": [
    "### Changing default behavior, using path above, package.version() will output Version 1\n",
    "import os\n",
    "import sys\n",
    "MODULE = 'package'\n",
    "\n",
    "def printPackageVersion():\n",
    "    import package\n",
    "    print(f\"Currently loaded package version {package.version()}\")\n",
    "\n",
    "if 'package' in sys.modules.keys():\n",
    "    # If already imported from somewhere else, remove\n",
    "    printPackageVersion()\n",
    "    del sys.modules[MODULE]\n",
    "\n",
    "# Changing to Version 2 of our package\n",
    "# sys.path was [\"\", \"package1\" \"package2\"] but will be [\"\", \"package2\", \"package1\"] now\n",
    "sys.path.insert(1, os.path.abspath(\"~/package2\"))\n",
    "printPackageVersion() # outputs Version2 \n",
    "\n",
    "# What if we wanted to use both versions of the package and use them both in the same file\n",
    "import importlib.util\n",
    "spec = importlib.util.spec_from_file_location('package', '~/package1/package.py')\n",
    "mod = importlib.util.module_from_spec(spec)\n",
    "spec.loader.exec_module(mod)\n",
    "\n",
    "mod.version() # Outputs Version 1\n",
    "package.version() # Outputs Version 2\n",
    "\n",
    "# What about overriding the already loaded version of the module with our new version\n",
    "# Now our module versions are out of sync, to hack in Version 1 again globally\n",
    "del sys.modules[MODULE]\n",
    "sys.modules[MODULE] = mod\n",
    "\n",
    "mod.version() # Outputs Version 1\n",
    "package.version() # Outputs Version 1"
   ]
  }
 ],
 "metadata": {
  "kernelspec": {
   "display_name": "Python (Pyodide)",
   "language": "python",
   "name": "python"
  },
  "language_info": {
   "codemirror_mode": {
    "name": "ipython",
    "version": 3
   },
   "file_extension": ".py",
   "mimetype": "text/x-python",
   "name": "python",
   "nbconvert_exporter": "python",
   "pygments_lexer": "ipython3",
   "version": "3.13.1"
  }
 },
 "nbformat": 4,
 "nbformat_minor": 5
}
