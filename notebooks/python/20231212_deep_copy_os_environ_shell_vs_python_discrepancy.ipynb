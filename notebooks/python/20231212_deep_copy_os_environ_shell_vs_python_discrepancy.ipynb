{
 "cells": [
  {
   "cell_type": "markdown",
   "id": "2e895adc-f38a-4e40-abc1-ec68727e3a86",
   "metadata": {},
   "source": [
    "# Investigating side-effect of using deepcopy to restore original os.environ state"
   ]
  },
  {
   "cell_type": "code",
   "execution_count": 59,
   "id": "abf13b53-4daa-42b1-9265-07a3cf2a68b3",
   "metadata": {},
   "outputs": [],
   "source": [
    "import os, subprocess\n",
    "\n",
    "class StrHelpers:\n",
    "    \n",
    "    @classmethod\n",
    "    def popenWithoutEnv(cls):\n",
    "        print(f\"\"\"subprocess.Popen('echo $foo', shell=True): {subprocess.Popen('echo $foo', shell=True)}\"\"\")\n",
    "    \n",
    "    @classmethod\n",
    "    def popenWithEnv(cls, env):\n",
    "        print(f\"\"\"subprocess.Popen('echo $foo', shell=True, env=env): {subprocess.Popen('echo $foo', shell=True, env=env)}\"\"\")\n",
    "\n"
   ]
  },
  {
   "cell_type": "markdown",
   "id": "d4e6dd99-c8d8-49e9-acda-b8acfb27532e",
   "metadata": {},
   "source": [
    "## os.environ is loaded originally and becomes a stale copy of the original os env variables\n",
    "- Taking a deepcopy of the os.environ variable creates a reference to the original os.environ"
   ]
  },
  {
   "cell_type": "code",
   "execution_count": 60,
   "id": "d7b621b5-3974-4e92-a334-4e25339ec725",
   "metadata": {},
   "outputs": [
    {
     "name": "stdout",
     "output_type": "stream",
     "text": [
      "subprocess.Popen('echo $foo', shell=True): <Popen: returncode: None args: 'echo $foo'>\n",
      "foo\n",
      "subprocess.Popen('echo $foo', shell=True): <Popen: returncode: None args: 'echo $foo'>\n",
      "bar\n"
     ]
    }
   ],
   "source": [
    "\"\"\"Recreating the 'bug'\"\"\"\n",
    "import os, copy\n",
    "\n",
    "# pre-experiment assertions\n",
    "os.environ['foo'] = 'foo'\n",
    "StrHelpers.popenWithoutEnv()\n",
    "\n",
    "# do mods\n",
    "myEnv = copy.deepcopy(os.environ)\n",
    "myEnv['foo'] = 'bar'\n",
    "\n",
    "# what the shell sees\n",
    "StrHelpers.popenWithoutEnv()"
   ]
  },
  {
   "cell_type": "code",
   "execution_count": 61,
   "id": "858f766c-2f80-49c5-b34c-8df80ca3d38b",
   "metadata": {},
   "outputs": [],
   "source": [
    "import os, subprocess\n",
    "\n",
    "class StrHelpers(StrHelpers):\n",
    "    @classmethod\n",
    "    def osEnvironFooLookup(cls):\n",
    "        print(f\"\"\"os.environ['foo']: {os.environ['foo']}\"\"\")\n",
    "\n",
    "    @classmethod\n",
    "    def osEnvironFooGetEnv(cls):\n",
    "        print(f\"\"\"os.getenv['foo']: {os.getenv('foo')}\"\"\")"
   ]
  },
  {
   "cell_type": "markdown",
   "id": "298a7d66-c783-4e14-9157-88d321da32e7",
   "metadata": {},
   "source": [
    "## Odder still, looking up the os.environ value returns what we would deem correct"
   ]
  },
  {
   "cell_type": "code",
   "execution_count": 62,
   "id": "b3e22a06-04bb-459f-afac-cca5246ae9b3",
   "metadata": {},
   "outputs": [
    {
     "name": "stdout",
     "output_type": "stream",
     "text": [
      "foo\n",
      "subprocess.Popen('echo $foo', shell=True): <Popen: returncode: None args: 'echo $foo'>\n",
      "os.environ['foo']: foo\n",
      "os.getenv['foo']: foo\n",
      "subprocess.Popen('echo $foo', shell=True, env=env): <Popen: returncode: None args: 'echo $foo'>\n",
      "bar\n"
     ]
    }
   ],
   "source": [
    "import os, copy\n",
    "# pre-experiment assertions\n",
    "os.environ['foo'] = 'foo'\n",
    "StrHelpers.popenWithoutEnv()\n",
    "\n",
    "\n",
    "# do mods\n",
    "myEnv = copy.deepcopy(os.environ)\n",
    "myEnv['foo'] = 'bar'\n",
    "\n",
    "# post-experiment examination\n",
    "# what python thinks\n",
    "StrHelpers.osEnvironFooLookup()\n",
    "StrHelpers.osEnvironFooGetEnv()\n",
    "\n",
    "# what the shell sees\n",
    "StrHelpers.popenWithEnv(myEnv)"
   ]
  },
  {
   "cell_type": "code",
   "execution_count": null,
   "id": "92b2aac9-06e3-42ef-9da9-af9605d6bcfb",
   "metadata": {},
   "outputs": [],
   "source": [
    "## There are two ways around this behavior\n",
    "# os.environ.copy()\n",
    "# Context managed modification"
   ]
  },
  {
   "cell_type": "markdown",
   "id": "10aa2aa8-96c2-4061-be38-3e7f960410e7",
   "metadata": {},
   "source": [
    "## 1. Use os.environ.copy to prevent this from occurring"
   ]
  },
  {
   "cell_type": "code",
   "execution_count": 63,
   "id": "36d47e5b-c314-4cc2-9f8c-ca4f2528e237",
   "metadata": {},
   "outputs": [
    {
     "name": "stdout",
     "output_type": "stream",
     "text": [
      "subprocess.Popen('echo $foo', shell=True): <Popen: returncode: None args: 'echo $foo'>\n",
      "os.environ['foo']: foo\n",
      "os.getenv['foo']: foo\n",
      "subprocess.Popen('echo $foo', shell=True, env=env): <Popen: returncode: None args: 'echo $foo'>\n",
      "foo\n",
      "bar\n"
     ]
    }
   ],
   "source": [
    "import os, copy\n",
    "# pre-experiment assertions\n",
    "os.environ['foo'] = 'foo'\n",
    "StrHelpers.popenWithoutEnv()\n",
    "\n",
    "# do mods\n",
    "myEnv = os.environ.copy()\n",
    "myEnv['foo'] = 'bar'\n",
    "\n",
    "# post-experiment examination\n",
    "# what python thinks\n",
    "StrHelpers.osEnvironFooLookup()\n",
    "StrHelpers.osEnvironFooGetEnv()\n",
    "\n",
    "# what the shell sees\n",
    "StrHelpers.popenWithEnv(myEnv)"
   ]
  },
  {
   "cell_type": "markdown",
   "id": "747e59a9-e63f-489e-91db-76e9cc77da17",
   "metadata": {},
   "source": [
    "## 2. Use a contextmanager to control the modifications"
   ]
  },
  {
   "cell_type": "code",
   "execution_count": 70,
   "id": "448aeb17-35cd-4d09-87ca-37ffdb1c3b2e",
   "metadata": {},
   "outputs": [
    {
     "name": "stdout",
     "output_type": "stream",
     "text": [
      "Inside context manager modified environment\n",
      "os.environ['foo']: bar\n",
      "subprocess.Popen('echo $foo', shell=True, env=env): <Popen: returncode: None args: 'echo $foo'>\n",
      "Outside context managed modified environment\n",
      "os.environ['foo']: foo\n",
      "bar\n",
      "subprocess.Popen('echo $foo', shell=True, env=env): <Popen: returncode: None args: 'echo $foo'>\n",
      "foo\n"
     ]
    }
   ],
   "source": [
    "import os\n",
    "from contextlib import contextmanager\n",
    "\n",
    "@contextmanager\n",
    "def modifiedEnv(*remove, **update):\n",
    "    env = os.environ\n",
    "    update = update or {}\n",
    "    remove = remove or []\n",
    "\n",
    "    envVarsToModifyBeforeTest = (set(update.keys()) | set(remove)) & set(env.keys())\n",
    "    envVarsToRestoreOnExit = {var: env[var] for var in envVarsToModifyBeforeTest}\n",
    "    envVarsToRemoveOnExit = frozenset(var for var in update if var not in env)\n",
    "\n",
    "    env.update(update)\n",
    "    [env.pop(var, None) for var in remove]\n",
    "    yield\n",
    "\n",
    "    env.update(envVarsToRestoreOnExit)\n",
    "    [env.pop(var) for var in envVarsToRemoveOnExit]\n",
    "\n",
    "\"\"\"Testing context managed solution\"\"\"\n",
    "def printResults():\n",
    "    StrHelpers.osEnvironFooLookup()\n",
    "    StrHelpers.popenWithEnv(myEnv)\n",
    "\n",
    "os.environ['foo'] = 'foo'\n",
    "\n",
    "with modifiedEnv(foo='bar') as myEnv:\n",
    "    print(\"Inside context manager modified environment\")\n",
    "    printResults()\n",
    "\n",
    "print(\"Outside context managed modified environment\")\n",
    "printResults()"
   ]
  }
 ],
 "metadata": {
  "kernelspec": {
   "display_name": "Python 3 (ipykernel)",
   "language": "python",
   "name": "python3"
  },
  "language_info": {
   "codemirror_mode": {
    "name": "ipython",
    "version": 3
   },
   "file_extension": ".py",
   "mimetype": "text/x-python",
   "name": "python",
   "nbconvert_exporter": "python",
   "pygments_lexer": "ipython3",
   "version": "3.11.2"
  }
 },
 "nbformat": 4,
 "nbformat_minor": 5
}
