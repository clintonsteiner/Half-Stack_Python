{
 "cells": [
  {
   "cell_type": "code",
   "execution_count": 1,
   "id": "30133ef3-4cd4-4c66-9c04-4e5d10fec14d",
   "metadata": {
    "execution": {
     "iopub.execute_input": "2024-07-08T18:15:58.144223Z",
     "iopub.status.busy": "2024-07-08T18:15:58.144031Z",
     "iopub.status.idle": "2024-07-08T18:15:58.153941Z",
     "shell.execute_reply": "2024-07-08T18:15:58.153261Z"
    }
   },
   "outputs": [
    {
     "data": {
      "text/plain": [
       "'\\n#My most used bash aliases\\nalias ..=\\'cd ../\\'\\nalias ...=\\'cd ../../\\'\\nalias ....=\\'cd ../../../\\'\\n\\nalias gd=\\'git diff\\'\\nalias gds=\\'git diff --staged\\'\\nalias gs=\\'git status\\'\\nalias ga=\\'git add\\'\\nalias gr=\\'git restore\\'\\nalias grs=\\'git restore --staged\\'\\nalias gc=\\'git commit\\'\\nalias gcm=\\'git commit -m\\'\\nalias gca=\\'git commit --amend --no-edit --date=now\\'\\nalias gb=\\'git branch\\'\\nalias gbdates=\"git for-each-ref --sort=committerdate refs/heads/ --format=\\'%(HEAD) %(color:yellow)%(refname:short)%(color:reset) - %(contents-subject) - %(authorname) (%(color:green)%(committerdate:short)%color:reset))\\'\"\\nalias gbresethard=\\'git reset --hard @{u}\\'\\n'"
      ]
     },
     "execution_count": 1,
     "metadata": {},
     "output_type": "execute_result"
    }
   ],
   "source": [
    "\"\"\"\n",
    "#My most used bash aliases\n",
    "alias ..='cd ../'\n",
    "alias ...='cd ../../'\n",
    "alias ....='cd ../../../'\n",
    "\n",
    "alias gd='git diff'\n",
    "alias gds='git diff --staged'\n",
    "alias gs='git status'\n",
    "alias ga='git add'\n",
    "alias gr='git restore'\n",
    "alias grs='git restore --staged'\n",
    "alias gc='git commit'\n",
    "alias gcm='git commit -m'\n",
    "alias gca='git commit --amend --no-edit --date=now'\n",
    "alias gb='git branch'\n",
    "alias gbdates=\"git for-each-ref --sort=committerdate refs/heads/ --format='%(HEAD) %(color:yellow)%(refname:short)%(color:reset) - %(contents-subject) - %(authorname) (%(color:green)%(committerdate:short)%color:reset))'\"\n",
    "alias gbresethard='git reset --hard @{u}'\n",
    "\"\"\""
   ]
  }
 ],
 "metadata": {
  "kernelspec": {
   "display_name": "Python 3 (ipykernel)",
   "language": "python",
   "name": "python3"
  },
  "language_info": {
   "codemirror_mode": {
    "name": "ipython",
    "version": 3
   },
   "file_extension": ".py",
   "mimetype": "text/x-python",
   "name": "python",
   "nbconvert_exporter": "python",
   "pygments_lexer": "ipython3",
   "version": "3.9.19"
  }
 },
 "nbformat": 4,
 "nbformat_minor": 5
}
